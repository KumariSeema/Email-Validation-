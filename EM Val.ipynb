{
 "cells": [
  {
   "cell_type": "markdown",
   "id": "5159c37d",
   "metadata": {},
   "source": [
    "# Email Validation"
   ]
  },
  {
   "cell_type": "code",
   "execution_count": null,
   "id": "d5d941c9",
   "metadata": {},
   "outputs": [],
   "source": [
    "Email = input(\" Enter your email: \")  # g@g.in,wscube.com\n",
    "k,j,d = 0,0,0\n",
    "if len( Email )>=6:       # 1\n",
    "    if Email[0].isalpha():       # 2\n",
    "        if (\"@\" in Email) and (Email.count(\"@\")==1):      # 3\n",
    "            if (Email[-3]==\".\") or (Email[-4]==\".\"):      #4\n",
    "                for i in Email:\n",
    "                    if i == i.isspace():\n",
    "                        k=1\n",
    "                    elif i.isalpha():\n",
    "                        if i == i.upper():\n",
    "                            j=1\n",
    "                    elif i.isdigit():\n",
    "                        continue\n",
    "                    elif i == \"_\" or i == \".\" or i ==\"@\":\n",
    "                        continue\n",
    "                    else:\n",
    "                        d = 1\n",
    "                if k == 1 or j == 1 or d == 1:\n",
    "                    print(\"Wrong Email 5\")\n",
    "                else:\n",
    "                    print(\"Right Email\")\n",
    "            else:\n",
    "                print(\"Wrong Email 4\")\n",
    "        else:\n",
    "            print(\"Wrong Email 3\")\n",
    "    else:\n",
    "        print(\"Wrong Email 2\")\n",
    "else:\n",
    "    print(\"Wrong Email 1\")\n",
    "    "
   ]
  }
 ],
 "metadata": {
  "kernelspec": {
   "display_name": "Python 3 (ipykernel)",
   "language": "python",
   "name": "python3"
  },
  "language_info": {
   "codemirror_mode": {
    "name": "ipython",
    "version": 3
   },
   "file_extension": ".py",
   "mimetype": "text/x-python",
   "name": "python",
   "nbconvert_exporter": "python",
   "pygments_lexer": "ipython3",
   "version": "3.9.12"
  }
 },
 "nbformat": 4,
 "nbformat_minor": 5
}
